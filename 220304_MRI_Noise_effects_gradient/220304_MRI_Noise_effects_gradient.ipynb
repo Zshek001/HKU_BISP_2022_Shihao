{
 "cells": [
  {
   "cell_type": "markdown",
   "metadata": {},
   "source": [
    "# 3D Image gradient at presence of noise\n",
    "***Mar 4 , 2022***\n",
    "\n",
    "In MRI data, a common noise type is the [Rician noise](https://doi.org/10.1002/mrm.1910340618). As explained in [this article](https://doi.org/10.1002/cmr.a.20124), the Rician noise is in essence the result of Gaussian noise on both the real and imaginary channel of complex data, and when calculating the magnitude, the magnitude follows a PDF which is known as the Rician distribution.\n",
    "\n",
    "In this notebook the effects of four types of noises common in MRI images on the sobel operator are explored:\n",
    "- Rician\n",
    "- Gaussian\n",
    "- K space spike\n",
    "- Gibbs\n",
    "\n",
    "#### _load 3D MRI image data_"
   ]
  },
  {
   "cell_type": "code",
   "execution_count": null,
   "metadata": {},
   "outputs": [],
   "source": [
    "import os\n",
    "import math\n",
    "\n",
    "import numpy as np\n",
    "import matplotlib.pyplot as plt\n",
    "from mpl_toolkits.axes_grid1 import ImageGrid\n",
    "import scipy, scipy.io\n",
    "from scipy import ndimage, signal\n",
    "\n",
    "import monai\n",
    "import h5py"
   ]
  },
  {
   "cell_type": "code",
   "execution_count": null,
   "metadata": {},
   "outputs": [],
   "source": [
    "# data file name\n",
    "fname = '101915_3T_T2w_SPC1'\n",
    "fnamemix = '105216_3T_T2w_SPC2'\n",
    "# Load data\n",
    "with h5py.File(os.path.join('data', fname+'.h5')) as f:\n",
    "    x = f['data'][()]\n",
    "    y = f['target'][()]\n",
    "# print('Shape of x (input, Low Res) =', x.shape) # (128, 128, 32)\n",
    "# print('Shape of y (target, High Res) =', y.shape) # (256, 256, 64)"
   ]
  },
  {
   "cell_type": "code",
   "execution_count": null,
   "metadata": {},
   "outputs": [],
   "source": [
    "def visualise_img(image, fig_size=(4, 8), res=500):\n",
    "    fig = plt.figure(dpi=res)\n",
    "    grid = ImageGrid(fig, 111, nrows_ncols=fig_size, axes_pad=0.0)\n",
    "    for i in range(image.shape[-1]):\n",
    "        #grid[i].imshow(np.rot90(image[i, ...], 1), cmap='gray') # if rot90 here, the translatory transform direction changed\n",
    "        grid[i].imshow(image[..., i], cmap='gray')\n",
    "        grid[i].axis('off')\n",
    "        grid[i].set_xticks([])\n",
    "        grid[i].set_yticks([])\n",
    "    plt.show()"
   ]
  },
  {
   "cell_type": "code",
   "execution_count": null,
   "metadata": {},
   "outputs": [],
   "source": [
    "visualise_img(x, (4,8))"
   ]
  },
  {
   "cell_type": "markdown",
   "metadata": {},
   "source": [
    "## 1. apply noise to data\n",
    "### Rician"
   ]
  },
  {
   "cell_type": "code",
   "execution_count": null,
   "metadata": {},
   "outputs": [],
   "source": [
    "noise_rician = monai.transforms.RandRicianNoise(prob=1.0, std=0.8, relative=True, channel_wise=True, sample_std=False)\n",
    "x_rician = noise_rician(x)\n",
    "visualise_img(x_rician, (4,8))"
   ]
  },
  {
   "cell_type": "markdown",
   "metadata": {},
   "source": [
    "### Gaussian"
   ]
  },
  {
   "cell_type": "code",
   "execution_count": null,
   "metadata": {},
   "outputs": [],
   "source": [
    "noise_gaussian = monai.transforms.RandGaussianNoise(prob=1.0, mean=0.0, std=800)\n",
    "x_gaussian = noise_gaussian(x)\n",
    "visualise_img(x_gaussian, (4,8))"
   ]
  },
  {
   "cell_type": "markdown",
   "metadata": {},
   "source": [
    "### K space spike"
   ]
  },
  {
   "cell_type": "code",
   "execution_count": null,
   "metadata": {},
   "outputs": [],
   "source": [
    "loc = (60,0)\n",
    "noise_kspacespike = monai.transforms.KSpaceSpikeNoise(loc, k_intensity=16, as_tensor_output=True)\n",
    "x_kspacespike = noise_kspacespike(x)\n",
    "visualise_img(x_kspacespike, (4,8))"
   ]
  },
  {
   "cell_type": "markdown",
   "metadata": {},
   "source": [
    "### Gibbs"
   ]
  },
  {
   "cell_type": "code",
   "execution_count": null,
   "metadata": {},
   "outputs": [],
   "source": [
    "noise_gibbs = monai.transforms.GibbsNoise(alpha=0.8, as_tensor_output=True)\n",
    "x_gibbs = noise_gibbs(x)\n",
    "visualise_img(x_gibbs, (4,8))"
   ]
  },
  {
   "cell_type": "markdown",
   "metadata": {},
   "source": [
    "## 2. apply image gradient operator (sobel)"
   ]
  },
  {
   "cell_type": "code",
   "execution_count": null,
   "metadata": {},
   "outputs": [],
   "source": [
    "sobel_x = ndimage.sobel(x, axis=1)\n",
    "visualise_img(sobel_x, (4, 8))"
   ]
  },
  {
   "cell_type": "code",
   "execution_count": null,
   "metadata": {},
   "outputs": [],
   "source": [
    "sobel_x_rician = ndimage.sobel(x_rician, axis=1)\n",
    "visualise_img(sobel_x_rician, (4, 8))"
   ]
  },
  {
   "cell_type": "code",
   "execution_count": null,
   "metadata": {},
   "outputs": [],
   "source": [
    "sobel_x_gaussian = ndimage.sobel(x_gaussian, axis=1)\n",
    "visualise_img(sobel_x_gaussian, (4, 8))"
   ]
  },
  {
   "cell_type": "code",
   "execution_count": null,
   "metadata": {},
   "outputs": [],
   "source": [
    "sobel_x_kspacespike = ndimage.sobel(x_kspacespike, axis=1)\n",
    "visualise_img(sobel_x_kspacespike, (4, 8))"
   ]
  },
  {
   "cell_type": "code",
   "execution_count": null,
   "metadata": {},
   "outputs": [],
   "source": [
    "sobel_x_gibbs = ndimage.sobel(x_gibbs, axis=0)\n",
    "visualise_img(sobel_x_gibbs, (4, 8))"
   ]
  },
  {
   "cell_type": "markdown",
   "metadata": {},
   "source": [
    "## 3. Discussion\n",
    "\n",
    "- The image data contaminated by rician and gaussian noise shows a 'white noise' feature in both raw image and the gradient image. \n",
    "- Surprisingly the K space spike noise applied is the most distorted visually but least affected sobel-wise.\n",
    "- the Gibbs noise produces a 'ringing artifacts' observable in both the raw and gradient images\n",
    "\n",
    "The comparison across these noises are not significant not only because their power or intensity can not be compared in one scale, but also the physical source producing these noises can not be compared and scaled."
   ]
  },
  {
   "cell_type": "markdown",
   "metadata": {},
   "source": [
    "### *About the explanation of the minimal effect of K space spike to sobel*\n",
    "\n",
    "Fourier-wise speaking, the sobel operator can be viewed as a high-pass filter, which detects the fast changing components(gradients) of the 2D signal. The K space spike applied in the example above is close to the center (60 in 128) and is a low frequency signal, which shall be less significant (or suppressed in views of the frequency spectrum) by the sobel operator generally in high SNR areas. At low SNR areas the noise itself is the primary source of change and can be visually seen in gradient images due to the normalization of the plt.imshow() function.\n",
    "\n",
    "To justify the theory above, another K spike noise with a higher frequency is applied below."
   ]
  },
  {
   "cell_type": "code",
   "execution_count": null,
   "metadata": {},
   "outputs": [],
   "source": [
    "loc = (25,0)\n",
    "noise_kspacespike_2 = monai.transforms.KSpaceSpikeNoise(loc, k_intensity=16, as_tensor_output=True)\n",
    "x_kspacespike_2 = noise_kspacespike_2(x)\n",
    "visualise_img(x_kspacespike_2, (4,8))"
   ]
  },
  {
   "cell_type": "code",
   "execution_count": null,
   "metadata": {},
   "outputs": [],
   "source": [
    "sobel_x_kspacespike_2 = ndimage.sobel(x_kspacespike_2, axis=1)\n",
    "visualise_img(sobel_x_kspacespike_2, (4, 8))"
   ]
  },
  {
   "cell_type": "markdown",
   "metadata": {},
   "source": [
    "### *The K space image (FFT, log)*"
   ]
  },
  {
   "cell_type": "code",
   "execution_count": null,
   "metadata": {},
   "outputs": [],
   "source": [
    "x_ft = scipy.fft.fft2(x, axes=(0,1)) # dtype('complex128')\n",
    "visualise_img(np.log(np.abs(x_ft)), (4,8))"
   ]
  },
  {
   "cell_type": "code",
   "execution_count": null,
   "metadata": {},
   "outputs": [],
   "source": [
    "sobel_x_ft = scipy.fft.fft2(sobel_x, axes=(0,1))\n",
    "visualise_img(np.log(np.abs(sobel_x_ft)), (4,8))"
   ]
  },
  {
   "cell_type": "markdown",
   "metadata": {},
   "source": [
    "Since the scale of the raw fft and sobel fft are not the same due to plt.imshow() normalization, the two data should be plotted in one single pic:"
   ]
  },
  {
   "cell_type": "code",
   "execution_count": null,
   "metadata": {},
   "outputs": [],
   "source": [
    "compare_img = np.concatenate((x_ft[...,0], sobel_x_ft[...,0]), axis=1)\n",
    "plt.imshow(np.log(np.abs(compare_img)), cmap='gray')\n",
    "plt.show()"
   ]
  },
  {
   "cell_type": "markdown",
   "metadata": {},
   "source": [
    "take the difference of the two as the sobel masking effect in k space:"
   ]
  },
  {
   "cell_type": "code",
   "execution_count": null,
   "metadata": {},
   "outputs": [],
   "source": [
    "sobel_x_mask = x_ft[...,0] - sobel_x_ft[...,0]\n",
    "plt.imshow(np.log(np.abs(sobel_x_mask)), cmap='gray')\n",
    "plt.show()"
   ]
  },
  {
   "cell_type": "markdown",
   "metadata": {},
   "source": [
    "do the same analysis to the spike noise contaminated data:"
   ]
  },
  {
   "cell_type": "code",
   "execution_count": null,
   "metadata": {},
   "outputs": [],
   "source": [
    "x_kspacespike_2_ft = scipy.fft.fft2(x_kspacespike_2, axes=(0,1))\n",
    "visualise_img(np.log(np.abs(x_kspacespike_2_ft)), (4,8))"
   ]
  },
  {
   "cell_type": "code",
   "execution_count": null,
   "metadata": {},
   "outputs": [],
   "source": [
    "sobel_x_kspacespike_2_ft = scipy.fft.fft2(sobel_x_kspacespike_2, axes=(0,1))\n",
    "visualise_img(np.log(np.abs(sobel_x_kspacespike_2_ft)), (4,8))"
   ]
  },
  {
   "cell_type": "markdown",
   "metadata": {},
   "source": [
    "### *the maskings*:"
   ]
  },
  {
   "cell_type": "code",
   "execution_count": null,
   "metadata": {},
   "outputs": [],
   "source": [
    "sobel_x_kspacespike_2_mask = x_kspacespike_2_ft - sobel_x_kspacespike_2_ft\n",
    "visualise_img(np.log(np.abs(sobel_x_kspacespike_2_mask)), (4,8))"
   ]
  },
  {
   "cell_type": "markdown",
   "metadata": {},
   "source": [
    "the noise spike line shows clearly on the masking image; the noise are being filtered out!\n",
    "\n",
    "### *inverse fft* of the maskings:"
   ]
  },
  {
   "cell_type": "code",
   "execution_count": null,
   "metadata": {},
   "outputs": [],
   "source": [
    "sobel_x_kspacespike_2_mask_ifft = scipy.fft.ifft2(sobel_x_kspacespike_2_mask, axes=(0,1))\n",
    "visualise_img(np.log(np.abs(sobel_x_kspacespike_2_mask_ifft)), (4,8))"
   ]
  }
 ],
 "metadata": {
  "interpreter": {
   "hash": "e24ebb4af2a90bf3d5a4308041ccc5b255f3303237943324afcd98fbdef17926"
  },
  "kernelspec": {
   "display_name": "Python 3.9.7 ('zshekenv2')",
   "language": "python",
   "name": "python3"
  },
  "language_info": {
   "codemirror_mode": {
    "name": "ipython",
    "version": 3
   },
   "file_extension": ".py",
   "mimetype": "text/x-python",
   "name": "python",
   "nbconvert_exporter": "python",
   "pygments_lexer": "ipython3",
   "version": "3.9.7"
  },
  "orig_nbformat": 4
 },
 "nbformat": 4,
 "nbformat_minor": 2
}
